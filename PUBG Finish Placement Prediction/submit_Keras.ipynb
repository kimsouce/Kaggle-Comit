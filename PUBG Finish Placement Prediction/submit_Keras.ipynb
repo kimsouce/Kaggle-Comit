{
 "cells": [
  {
   "cell_type": "code",
   "execution_count": 1,
   "metadata": {},
   "outputs": [],
   "source": [
    "from keras.models import Sequential\n",
    "from keras.layers.core import Dense\n",
    "from tensorflow.keras.optimizers import Adam\n",
    "from keras.callbacks import EarlyStopping\n",
    "from sklearn import model_selection\n",
    "\n",
    "from sklearn.model_selection import StratifiedKFold\n",
    "from sklearn.preprocessing import LabelEncoder\n",
    "from sklearn.model_selection import train_test_split\n",
    "\n",
    "import numpy as np\n",
    "import pandas as pd\n",
    "import tensorflow as tf"
   ]
  },
  {
   "cell_type": "code",
   "execution_count": 2,
   "metadata": {},
   "outputs": [
    {
     "data": {
      "text/plain": [
       "(4446965, 29)"
      ]
     },
     "execution_count": 2,
     "metadata": {},
     "output_type": "execute_result"
    }
   ],
   "source": [
    "train = pd.read_csv(\"./data/train_V2.csv\")\n",
    "train = train.dropna() #nan값 drop시켜줌\n",
    "train.shape"
   ]
  },
  {
   "cell_type": "code",
   "execution_count": 3,
   "metadata": {},
   "outputs": [
    {
     "data": {
      "text/plain": [
       "(1934174, 28)"
      ]
     },
     "execution_count": 3,
     "metadata": {},
     "output_type": "execute_result"
    }
   ],
   "source": [
    "test = pd.read_csv(\"./data/test_V2.csv\")\n",
    "test = test.dropna() #nan값 drop시켜줌\n",
    "test.shape"
   ]
  },
  {
   "cell_type": "code",
   "execution_count": 4,
   "metadata": {},
   "outputs": [
    {
     "data": {
      "text/plain": [
       "['boosts',\n",
       " 'damageDealt',\n",
       " 'heals',\n",
       " 'kills',\n",
       " 'longestKill',\n",
       " 'walkDistance',\n",
       " 'weaponsAcquired']"
      ]
     },
     "execution_count": 4,
     "metadata": {},
     "output_type": "execute_result"
    }
   ],
   "source": [
    "feature_name = ['boosts','damageDealt', 'heals', 'kills','longestKill', 'walkDistance', 'weaponsAcquired']\n",
    "feature_name"
   ]
  },
  {
   "cell_type": "code",
   "execution_count": 5,
   "metadata": {},
   "outputs": [
    {
     "data": {
      "text/plain": [
       "['winPlacePerc']"
      ]
     },
     "execution_count": 5,
     "metadata": {},
     "output_type": "execute_result"
    }
   ],
   "source": [
    "label_name = [\"winPlacePerc\"]\n",
    "label_name"
   ]
  },
  {
   "cell_type": "code",
   "execution_count": 6,
   "metadata": {},
   "outputs": [
    {
     "data": {
      "text/plain": [
       "(4446965, 7)"
      ]
     },
     "execution_count": 6,
     "metadata": {},
     "output_type": "execute_result"
    }
   ],
   "source": [
    "x_train = train[feature_name]\n",
    "x_train.shape"
   ]
  },
  {
   "cell_type": "code",
   "execution_count": 7,
   "metadata": {},
   "outputs": [
    {
     "data": {
      "text/plain": [
       "(1934174, 7)"
      ]
     },
     "execution_count": 7,
     "metadata": {},
     "output_type": "execute_result"
    }
   ],
   "source": [
    "x_test = test[feature_name]\n",
    "x_test.shape"
   ]
  },
  {
   "cell_type": "code",
   "execution_count": 8,
   "metadata": {},
   "outputs": [
    {
     "data": {
      "text/plain": [
       "(4446965, 1)"
      ]
     },
     "execution_count": 8,
     "metadata": {},
     "output_type": "execute_result"
    }
   ],
   "source": [
    "y_train = train[label_name]\n",
    "y_train.shape"
   ]
  },
  {
   "cell_type": "code",
   "execution_count": 11,
   "metadata": {},
   "outputs": [
    {
     "name": "stdout",
     "output_type": "stream",
     "text": [
      "Epoch 1/50\n",
      "4447/4447 [==============================] - 3s 615us/step - loss: 171.9482\n",
      "Epoch 2/50\n",
      "4447/4447 [==============================] - 3s 600us/step - loss: 30.7965\n",
      "Epoch 3/50\n",
      "4447/4447 [==============================] - 3s 608us/step - loss: 28.1210\n",
      "Epoch 4/50\n",
      "4447/4447 [==============================] - 3s 601us/step - loss: 27.0306\n",
      "Epoch 5/50\n",
      "4447/4447 [==============================] - 3s 591us/step - loss: 27.5629\n",
      "Epoch 6/50\n",
      "4447/4447 [==============================] - 3s 594us/step - loss: 28.5212\n",
      "Epoch 7/50\n",
      "4447/4447 [==============================] - 3s 622us/step - loss: 29.0736\n",
      "Epoch 8/50\n",
      "4447/4447 [==============================] - 3s 603us/step - loss: 24.8210\n",
      "Epoch 9/50\n",
      "4447/4447 [==============================] - 3s 604us/step - loss: 29.6777\n",
      "Epoch 10/50\n",
      "4447/4447 [==============================] - 3s 594us/step - loss: 26.3574\n",
      "Epoch 11/50\n",
      "4447/4447 [==============================] - 3s 587us/step - loss: 27.8488\n",
      "Epoch 12/50\n",
      "4447/4447 [==============================] - 3s 598us/step - loss: 27.1352\n",
      "Epoch 13/50\n",
      "4447/4447 [==============================] - 3s 603us/step - loss: 28.9479\n",
      "Epoch 14/50\n",
      "4447/4447 [==============================] - 3s 589us/step - loss: 27.3619\n",
      "Epoch 15/50\n",
      "4447/4447 [==============================] - 3s 599us/step - loss: 30.7570\n",
      "Epoch 16/50\n",
      "4447/4447 [==============================] - 3s 608us/step - loss: 29.0666\n",
      "Epoch 17/50\n",
      "4447/4447 [==============================] - 3s 604us/step - loss: 25.9933\n",
      "Epoch 18/50\n",
      "4447/4447 [==============================] - 3s 700us/step - loss: 26.6618\n",
      "Epoch 19/50\n",
      "4447/4447 [==============================] - 3s 629us/step - loss: 28.2278\n",
      "Epoch 20/50\n",
      "4447/4447 [==============================] - 3s 604us/step - loss: 28.5049\n",
      "Epoch 21/50\n",
      "4447/4447 [==============================] - 3s 647us/step - loss: 28.5161\n",
      "Epoch 22/50\n",
      "4447/4447 [==============================] - 3s 609us/step - loss: 33.5393\n",
      "Epoch 23/50\n",
      "4447/4447 [==============================] - 3s 629us/step - loss: 25.4820\n",
      "Epoch 24/50\n",
      "4447/4447 [==============================] - 3s 619us/step - loss: 26.6824\n",
      "Epoch 25/50\n",
      "4447/4447 [==============================] - 3s 605us/step - loss: 35.0249\n",
      "Epoch 26/50\n",
      "4447/4447 [==============================] - 3s 610us/step - loss: 28.8230\n",
      "Epoch 27/50\n",
      "4447/4447 [==============================] - 3s 603us/step - loss: 24.9526\n",
      "Epoch 28/50\n",
      "4447/4447 [==============================] - 3s 615us/step - loss: 30.0239\n",
      "Epoch 29/50\n",
      "4447/4447 [==============================] - 3s 648us/step - loss: 31.5593\n",
      "Epoch 30/50\n",
      "4447/4447 [==============================] - 3s 598us/step - loss: 26.2433\n",
      "Epoch 31/50\n",
      "4447/4447 [==============================] - 3s 602us/step - loss: 27.1411\n",
      "Epoch 32/50\n",
      "4447/4447 [==============================] - 3s 611us/step - loss: 30.3284\n",
      "Epoch 33/50\n",
      "4447/4447 [==============================] - 3s 609us/step - loss: 27.3257\n",
      "Epoch 34/50\n",
      "4447/4447 [==============================] - 3s 603us/step - loss: 31.3180\n",
      "Epoch 35/50\n",
      "4447/4447 [==============================] - 3s 607us/step - loss: 25.9609\n",
      "Epoch 36/50\n",
      "4447/4447 [==============================] - 3s 601us/step - loss: 28.9034\n",
      "Epoch 37/50\n",
      "4447/4447 [==============================] - 3s 594us/step - loss: 25.5136\n",
      "Epoch 38/50\n",
      "4447/4447 [==============================] - 3s 603us/step - loss: 30.8500\n",
      "Epoch 39/50\n",
      "4447/4447 [==============================] - 3s 606us/step - loss: 25.9351\n",
      "Epoch 40/50\n",
      "4447/4447 [==============================] - 3s 625us/step - loss: 28.4435\n",
      "Epoch 41/50\n",
      "4447/4447 [==============================] - 3s 607us/step - loss: 26.8344\n",
      "Epoch 42/50\n",
      "4447/4447 [==============================] - 3s 596us/step - loss: 28.2328\n",
      "Epoch 43/50\n",
      "4447/4447 [==============================] - 3s 600us/step - loss: 26.8532\n",
      "Epoch 44/50\n",
      "4447/4447 [==============================] - 3s 599us/step - loss: 32.0900\n",
      "Epoch 45/50\n",
      "4447/4447 [==============================] - 3s 600us/step - loss: 27.4195\n",
      "Epoch 46/50\n",
      "4447/4447 [==============================] - 3s 606us/step - loss: 28.7274\n",
      "Epoch 47/50\n",
      "4447/4447 [==============================] - 3s 610us/step - loss: 29.9150\n",
      "Epoch 48/50\n",
      "4447/4447 [==============================] - 3s 611us/step - loss: 28.1889\n",
      "Epoch 49/50\n",
      "4447/4447 [==============================] - 3s 607us/step - loss: 27.4775\n",
      "Epoch 50/50\n",
      "4447/4447 [==============================] - 3s 594us/step - loss: 27.9811\n"
     ]
    },
    {
     "data": {
      "text/plain": [
       "<tensorflow.python.keras.callbacks.History at 0x236e7bd3f48>"
      ]
     },
     "execution_count": 11,
     "metadata": {},
     "output_type": "execute_result"
    }
   ],
   "source": [
    "Dense(units=1, input_dim=7 ) #예측할 때에는 activation 합수를 사용할 필요가 없다. \n",
    "model = Sequential( [IO] )\n",
    "model.compile( loss='mean_squared_error', optimizer=Adam(0.1))\n",
    "model.fit( x_train, y_train, epochs=50, batch_size = 1000)"
   ]
  },
  {
   "cell_type": "code",
   "execution_count": 13,
   "metadata": {},
   "outputs": [],
   "source": [
    "y_pred = model.predict(x_test)"
   ]
  },
  {
   "cell_type": "code",
   "execution_count": 15,
   "metadata": {},
   "outputs": [],
   "source": [
    "submission = pd.read_csv(\"./data/sample_submission_V2.csv\", index_col=\"Id\")"
   ]
  },
  {
   "cell_type": "code",
   "execution_count": 16,
   "metadata": {},
   "outputs": [],
   "source": [
    "submission[\"winPlacePerc\"] = y_pred"
   ]
  },
  {
   "cell_type": "code",
   "execution_count": 17,
   "metadata": {},
   "outputs": [
    {
     "data": {
      "text/plain": [
       "<bound method NDFrame.head of                 winPlacePerc\n",
       "Id                          \n",
       "9329eb41e215eb      0.284785\n",
       "639bd0dcd7bda8      0.948500\n",
       "63d5c8ef8dfe91      0.393411\n",
       "cf5b81422591d1      0.510178\n",
       "ee6a295187ba21      0.910129\n",
       "...                      ...\n",
       "a316c3a13887d5      0.752187\n",
       "5312146b27d875      0.409907\n",
       "fc8818b5b32ad3      0.748970\n",
       "a0f91e35f8458f      0.682712\n",
       "3696fc9f3a42b2      0.179411\n",
       "\n",
       "[1934174 rows x 1 columns]>"
      ]
     },
     "execution_count": 17,
     "metadata": {},
     "output_type": "execute_result"
    }
   ],
   "source": [
    "submission.head"
   ]
  },
  {
   "cell_type": "code",
   "execution_count": 18,
   "metadata": {},
   "outputs": [],
   "source": [
    "submission.to_csv(\"./data/Keras.csv\")"
   ]
  },
  {
   "cell_type": "code",
   "execution_count": null,
   "metadata": {},
   "outputs": [],
   "source": []
  }
 ],
 "metadata": {
  "kernelspec": {
   "display_name": "Python 3",
   "language": "python",
   "name": "python3"
  },
  "language_info": {
   "codemirror_mode": {
    "name": "ipython",
    "version": 3
   },
   "file_extension": ".py",
   "mimetype": "text/x-python",
   "name": "python",
   "nbconvert_exporter": "python",
   "pygments_lexer": "ipython3",
   "version": "3.7.6"
  }
 },
 "nbformat": 4,
 "nbformat_minor": 4
}
